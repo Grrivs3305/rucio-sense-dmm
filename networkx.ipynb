{
 "cells": [
  {
   "cell_type": "code",
   "execution_count": 85,
   "metadata": {},
   "outputs": [],
   "source": [
    "import networkx as nx\n",
    "import numpy as np\n",
    "from scipy.optimize import linprog"
   ]
  },
  {
   "cell_type": "code",
   "execution_count": 119,
   "metadata": {},
   "outputs": [
    {
     "data": {
      "text/plain": [
       "1"
      ]
     },
     "execution_count": 119,
     "metadata": {},
     "output_type": "execute_result"
    }
   ],
   "source": [
    "# Step 1: Create the MultiGraph with nodes and edges\n",
    "m = nx.MultiGraph()\n",
    "m.add_node(\"A\", port_capacity=400)\n",
    "m.add_node(\"B\", port_capacity=400)\n",
    "m.add_node(\"C\", port_capacity=100)\n",
    "\n",
    "m.add_edge(\"A\", \"B\", priority=3)\n",
    "m.add_edge(\"A\", \"C\", priority=2)\n",
    "m.add_edge(\"B\", \"C\", priority=1)\n",
    "m.add_edge(\"B\", \"C\", priority=1)"
   ]
  },
  {
   "cell_type": "code",
   "execution_count": 120,
   "metadata": {},
   "outputs": [],
   "source": [
    "# Step 2: Convert MultiGraph to a simple Graph with summed priorities\n",
    "g = nx.Graph()\n",
    "g.add_nodes_from(m.nodes(data=True))\n",
    "\n",
    "for u, v, data in m.edges(data=True):\n",
    "    priority = data['priority']\n",
    "    if g.has_edge(u, v):\n",
    "        g[u][v]['priority'] += priority\n",
    "    else:\n",
    "        g.add_edge(u, v, priority=priority)"
   ]
  },
  {
   "cell_type": "code",
   "execution_count": 121,
   "metadata": {},
   "outputs": [],
   "source": [
    "g = nx.Graph()\n",
    "g.add_nodes_from(m.nodes(data=True))\n",
    "\n",
    "for u, v, data in m.edges(data=True):\n",
    "    priority = data['priority']\n",
    "    if g.has_edge(u, v):\n",
    "        g[u][v]['priority'] += priority\n",
    "    else:\n",
    "        g.add_edge(u, v, priority=priority)\n",
    "\n",
    "nodes = list(g.nodes)\n",
    "edges = list(g.edges(data=True))\n",
    "\n",
    "n_nodes = len(nodes)\n",
    "n_edges = len(edges)"
   ]
  },
  {
   "cell_type": "code",
   "execution_count": 124,
   "metadata": {},
   "outputs": [],
   "source": [
    "node_index = {node: i for i, node in enumerate(nodes)}\n",
    "edge_index = {edge[:2]: i for i, edge in enumerate(edges)}\n",
    "\n",
    "A = np.zeros((n_nodes, n_edges))\n",
    "c = np.zeros(n_edges)\n",
    "\n",
    "for (u, v, data) in edges:\n",
    "    i = node_index[u]\n",
    "    j = node_index[v]\n",
    "    priority = data['priority']\n",
    "    edge_idx = edge_index[(u, v)]\n",
    "\n",
    "    A[i, edge_idx] = priority  # Outgoing edge from node i\n",
    "    A[j, edge_idx] = priority  # Incoming edge to node j\n",
    "    c[edge_idx] = -priority    # We minimize -priority to maximize flow\n",
    "\n",
    "b = np.array([g.nodes[node]['port_capacity'] for node in nodes])\n",
    "\n",
    "optim_result = linprog(c, A_ub=A, b_ub=b, bounds=(0, None))\n",
    "\n",
    "if optim_result.success:\n",
    "    x = optim_result.x  # Optimal flow on each edge\n",
    "    final_flow = x * np.array([data['priority'] for u, v, data in edges])\n",
    "    \n",
    "    for u, v, key, data in m.edges(keys=True, data=True):\n",
    "        total_priority = g[u][v]['priority']  # Get the summed priority in the simple graph\n",
    "        if total_priority > 0:\n",
    "            proportion = data['priority'] / total_priority\n",
    "            final_flow_value = final_flow[edge_index[(u, v)]] * proportion\n",
    "            m[u][v][key]['bandwidth'] = final_flow_value\n",
    "        else:\n",
    "            m[u][v][key]['bandwidth'] = 0\n",
    "\n",
    "else:\n",
    "    print(\"Optimization failed.\")\n"
   ]
  },
  {
   "cell_type": "code",
   "execution_count": 123,
   "metadata": {},
   "outputs": [
    {
     "data": {
      "text/plain": [
       "MultiEdgeDataView([('A', 'B', {'priority': 3, 'bandwidth': 350.0}), ('A', 'C', {'priority': 2, 'bandwidth': 50.0}), ('B', 'C', {'priority': 1, 'bandwidth': 25.0}), ('B', 'C', {'priority': 1, 'bandwidth': 25.0})])"
      ]
     },
     "execution_count": 123,
     "metadata": {},
     "output_type": "execute_result"
    }
   ],
   "source": [
    "m.edges(data=True)"
   ]
  }
 ],
 "metadata": {
  "kernelspec": {
   "display_name": "dev",
   "language": "python",
   "name": "python3"
  },
  "language_info": {
   "codemirror_mode": {
    "name": "ipython",
    "version": 3
   },
   "file_extension": ".py",
   "mimetype": "text/x-python",
   "name": "python",
   "nbconvert_exporter": "python",
   "pygments_lexer": "ipython3",
   "version": "3.12.0"
  }
 },
 "nbformat": 4,
 "nbformat_minor": 2
}
